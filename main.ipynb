{
 "cells": [
  {
   "cell_type": "code",
   "execution_count": 2,
   "metadata": {
    "collapsed": true
   },
   "outputs": [],
   "source": [
    "#Imports\n",
    "import json\n",
    "import csv\n",
    "import pandas as pd\n",
    "import numpy as np\n",
    "import matplotlib.pyplot as plt\n",
    "import openweathermapy.core as ow\n",
    "from citipy import citipy \n",
    "import random\n",
    "import requests as req"
   ]
  },
  {
   "cell_type": "code",
   "execution_count": 3,
   "metadata": {
    "collapsed": true
   },
   "outputs": [],
   "source": [
    "#Random selection of 500 unique cities based on lat/long coordinates\n",
    "#Truncate random coordinates to 6 decimal points each\n",
    "def truncate(x, d): #Source for truncate() function: https://stackoverflow.com/a/20545024\n",
    "    return int(x*(10.0**d))/(10.0**d)\n",
    "    #x = input\n",
    "    #d = decimal places to truncate to\n",
    "\n",
    "cityList = []\n",
    "selected_cites = []\n",
    "uniqueCityCount = 0\n",
    "\n",
    "while (uniqueCityCount < 10): \n",
    "    random_lat = truncate(random.uniform(-90,90),6)\n",
    "    random_long = truncate(random.uniform(-180,180),6)\n",
    "    cityToCheck = citipy.nearest_city(random_lat, random_long).city_name\n",
    "    #Pass query to OpenWeatherMap API to check if city is in database\n",
    "    \n",
    "    query_city = cityToCheck\n",
    "    query_url = base_url + \"?apikey=\" + api_key + \"&q=\" + query_city\n",
    "    response = req.get(query_url)\n",
    "    json_data = response.json()\n",
    "    \n",
    "    #Prevent duplicates from being appended to the cityList (before dataframe creation)\n",
    "    #While also not adding the specified city if not in OWM database\n",
    "    if cityToCheck not in cityList and json_data['cod'] != '404':\n",
    "        cityList.append(cityToCheck)\n",
    "        uniqueCityCount = uniqueCityCount+ 1 \n",
    "        \n",
    "#Create dataframe with uniqueCity names        \n",
    "raw_cities_df = pd.DataFrame({\"City Name\": cityList})\n",
    "\n",
    "#Not needed if duplicates removed before dataframe creation: \n",
    "#raw_cities_df = raw_cities_df.drop_duplicates() \n",
    "\n",
    "#Creation of column for city number\n",
    "raw_cities_df['City Number'] = raw_cities_df.index + 1\n",
    "raw_cities_df= raw_cities_df[['City Number','City Name']]\n",
    "cn = pd.to_numeric(raw_cities_df['City Number'], errors='raise', downcast=None)"
   ]
  },
  {
   "cell_type": "code",
   "execution_count": 4,
   "metadata": {},
   "outputs": [
    {
     "data": {
      "text/html": [
       "<div>\n",
       "<style>\n",
       "    .dataframe thead tr:only-child th {\n",
       "        text-align: right;\n",
       "    }\n",
       "\n",
       "    .dataframe thead th {\n",
       "        text-align: left;\n",
       "    }\n",
       "\n",
       "    .dataframe tbody tr th {\n",
       "        vertical-align: top;\n",
       "    }\n",
       "</style>\n",
       "<table border=\"1\" class=\"dataframe\">\n",
       "  <thead>\n",
       "    <tr style=\"text-align: right;\">\n",
       "      <th></th>\n",
       "      <th>City Number</th>\n",
       "      <th>City Name</th>\n",
       "    </tr>\n",
       "  </thead>\n",
       "  <tbody>\n",
       "    <tr>\n",
       "      <th>0</th>\n",
       "      <td>1</td>\n",
       "      <td>port macquarie</td>\n",
       "    </tr>\n",
       "    <tr>\n",
       "      <th>1</th>\n",
       "      <td>2</td>\n",
       "      <td>staraya stanitsa</td>\n",
       "    </tr>\n",
       "    <tr>\n",
       "      <th>2</th>\n",
       "      <td>3</td>\n",
       "      <td>bluff</td>\n",
       "    </tr>\n",
       "    <tr>\n",
       "      <th>3</th>\n",
       "      <td>4</td>\n",
       "      <td>nayoro</td>\n",
       "    </tr>\n",
       "    <tr>\n",
       "      <th>4</th>\n",
       "      <td>5</td>\n",
       "      <td>albany</td>\n",
       "    </tr>\n",
       "    <tr>\n",
       "      <th>5</th>\n",
       "      <td>6</td>\n",
       "      <td>langres</td>\n",
       "    </tr>\n",
       "    <tr>\n",
       "      <th>6</th>\n",
       "      <td>7</td>\n",
       "      <td>lerwick</td>\n",
       "    </tr>\n",
       "    <tr>\n",
       "      <th>7</th>\n",
       "      <td>8</td>\n",
       "      <td>port blair</td>\n",
       "    </tr>\n",
       "    <tr>\n",
       "      <th>8</th>\n",
       "      <td>9</td>\n",
       "      <td>port alfred</td>\n",
       "    </tr>\n",
       "    <tr>\n",
       "      <th>9</th>\n",
       "      <td>10</td>\n",
       "      <td>punta arenas</td>\n",
       "    </tr>\n",
       "  </tbody>\n",
       "</table>\n",
       "</div>"
      ],
      "text/plain": [
       "   City Number         City Name\n",
       "0            1    port macquarie\n",
       "1            2  staraya stanitsa\n",
       "2            3             bluff\n",
       "3            4            nayoro\n",
       "4            5            albany\n",
       "5            6           langres\n",
       "6            7           lerwick\n",
       "7            8        port blair\n",
       "8            9       port alfred\n",
       "9           10      punta arenas"
      ]
     },
     "execution_count": 4,
     "metadata": {},
     "output_type": "execute_result"
    }
   ],
   "source": [
    "\n",
    "raw_cities_df.head(25)\n",
    "#print(raw_cities_df['City Number'])"
   ]
  },
  {
   "cell_type": "code",
   "execution_count": null,
   "metadata": {
    "collapsed": true
   },
   "outputs": [],
   "source": []
  },
  {
   "cell_type": "code",
   "execution_count": 5,
   "metadata": {
    "scrolled": true
   },
   "outputs": [
    {
     "name": "stdout",
     "output_type": "stream",
     "text": [
      "Base URL for API requests:... http://api.openweathermap.org/data/2.5/\n",
      "Parameters being requested per city:... \n",
      "['name', 'coord.lat', 'coord.lon', 'main.temp', 'main.humidity', 'wind.speed', 'clouds.all']\n",
      "Processing city 1 of 10, port macquarie:\n",
      "('Port Macquarie', -31.43, 152.91, 77, 69, 10.29, 90)\n",
      "Processing city 2 of 10, staraya stanitsa:\n",
      "('Staraya Stanitsa', 45.01, 41.15, 29.83, 91, 9.91, 0)\n",
      "Processing city 3 of 10, bluff:\n",
      "('Bluff', -23.58, 149.07, 75.41, 80, 3.87, 56)\n",
      "Processing city 4 of 10, nayoro:\n",
      "('Nayoro', 44.36, 142.46, 16.46, 79, 3.98, 76)\n",
      "Processing city 5 of 10, albany:\n",
      "('Albany', 42.65, -73.75, 44.6, 56, 11.41, 75)\n",
      "Processing city 6 of 10, langres:\n",
      "('Langres', 47.87, 5.33, 33.8, 94, 2.24, 88)\n",
      "Processing city 7 of 10, lerwick:\n",
      "('Lerwick', 60.15, -1.15, 41, 86, 23.04, 92)\n",
      "Processing city 8 of 10, port blair:\n",
      "('Port Blair', 11.67, 92.75, 82.07, 100, 9.01, 0)\n",
      "Processing city 9 of 10, port alfred:\n",
      "('Port Alfred', -33.59, 26.89, 71.54, 88, 8.9, 92)\n",
      "Processing city 10 of 10, punta arenas:\n",
      "('Punta Arenas', -53.16, -70.91, 59, 38, 20.8, 40)\n"
     ]
    }
   ],
   "source": [
    "settings = {\"units\": \"imperial\",\"appid\": api_key}\n",
    "from time import sleep\n",
    "\n",
    "#Print parameters being requested from owm API before retrival\n",
    "print(\"Base URL for API requests:... \" + ow.BASE_URL)\n",
    "print(\"Parameters being requested per city:... \")\n",
    "summary = [\"name\", \"coord.lat\", \"coord.lon\",\"main.temp\",\"main.humidity\",\"wind.speed\",\"clouds.all\"]\n",
    "print(summary)\n",
    "\n",
    "#Get current weather for each city in cityList\n",
    "cityCount = 1\n",
    "for city in raw_cities_df[\"City Name\"]:\n",
    "    sleep(1.2)\n",
    "    try:\n",
    "        print(\"Processing city \" + str(cityCount)+ \" of \" +str(len(raw_cities_df[\"City Name\"])) + \", \"+ city +\":\") \n",
    "        current_city= ow.get_current(city, **settings)\n",
    "        sleep(1.2)\n",
    "        #Leveraging OpenWatherMapy to parse the response with current_city(*summary)\n",
    "        #summary = [\"name\", \"coord.lat\", \"coord.lon\",\"main.temp\",\"main.humidity\",\"wind.speed\",\"clouds.all\"]\n",
    "        summary_output = current_city(*summary)\n",
    "        print(str(summary_output))\n",
    "    \n",
    "    except Exception as ex:\n",
    "        print(ex)\n",
    "        cityCount = cityCount - 1\n",
    "    cityCount = cityCount + 1\n",
    "\n",
    "    #openweathermap complete city list:\n",
    "    #http://openweathermap.org/help/city_list.txt \n",
    "    #one method ---> check against list\n",
    "    #another method ---> skip if error returned \n",
    "    \n",
    "    #https://pandas.pydata.org/pandas-docs/stable/generated/pandas.read_html.html\n",
    "    \n",
    "    "
   ]
  },
  {
   "cell_type": "code",
   "execution_count": 6,
   "metadata": {},
   "outputs": [
    {
     "name": "stdout",
     "output_type": "stream",
     "text": [
      "('Punta Arenas', -53.16, -70.91, 59, 38, 20.8, 40)\n"
     ]
    }
   ],
   "source": [
    "#Put requested data into a dictionary that contains a list (intention to append to dataframe)\n",
    "views = {\"summary\":[\"name\", \"coord.lat\", \"coord.lon\",\"main.temp\",\"main.humidity\",\"wind.speed\",\"clouds.all\"]}\n",
    "print(current_city(*views[\"summary\"]))\n",
    "\n",
    "#raw_cities_df[[\"summary\"]]\n",
    "#pd.DataFrame_fromt_dict\n",
    "#https://pandas.pydata.org/pandas-docs/stable/generated/pandas.DataFrame.append.html\n",
    "#Mapping ----> http://pandas.pydata.org/pandas-docs/version/0.19/generated/pandas.Series.map.html\n",
    "#https://stackoverflow.com/questions/26666919/python-pandas-add-column-in-dataframe-from-list\n",
    "#https://stackoverflow.com/questions/42632470/how-to-add-dictionaries-to-a-dataframe-as-a-row\n",
    "#Documentation on OWM wrapper ---> https://github.com/crazycapivara/openweathermapy"
   ]
  },
  {
   "cell_type": "code",
   "execution_count": null,
   "metadata": {
    "collapsed": true
   },
   "outputs": [],
   "source": []
  },
  {
   "cell_type": "code",
   "execution_count": null,
   "metadata": {
    "collapsed": true
   },
   "outputs": [],
   "source": []
  },
  {
   "cell_type": "code",
   "execution_count": null,
   "metadata": {
    "collapsed": true
   },
   "outputs": [],
   "source": []
  },
  {
   "cell_type": "code",
   "execution_count": null,
   "metadata": {
    "collapsed": true
   },
   "outputs": [],
   "source": []
  },
  {
   "cell_type": "code",
   "execution_count": null,
   "metadata": {
    "collapsed": true
   },
   "outputs": [],
   "source": []
  }
 ],
 "metadata": {
  "kernelspec": {
   "display_name": "Python 3",
   "language": "python",
   "name": "python3"
  },
  "language_info": {
   "codemirror_mode": {
    "name": "ipython",
    "version": 3
   },
   "file_extension": ".py",
   "mimetype": "text/x-python",
   "name": "python",
   "nbconvert_exporter": "python",
   "pygments_lexer": "ipython3",
   "version": "3.6.1"
  }
 },
 "nbformat": 4,
 "nbformat_minor": 2
}
