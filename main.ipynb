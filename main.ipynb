{
 "cells": [
  {
   "cell_type": "code",
   "execution_count": 61,
   "metadata": {
    "collapsed": true
   },
   "outputs": [],
   "source": [
    "#Imports\n",
    "import json\n",
    "import csv\n",
    "import pandas as pd\n",
    "import numpy as np\n",
    "import matplotlib.pyplot as plt\n",
    "import openweathermapy.core as ow\n",
    "from citipy import citipy \n",
    "import random\n",
    "\n",
    "#OpenWeatherMap API Key\n",
    "api_key = \"26fea83d1259ec5c651394906a953b54\""
   ]
  },
  {
   "cell_type": "code",
   "execution_count": 73,
   "metadata": {},
   "outputs": [],
   "source": [
    "#Random selection of 500 unique cities based on lat/long coordinates\n",
    "#Truncate random coordinates to 6 decimal points each\n",
    "def truncate(x, d): #Source for truncate() function: https://stackoverflow.com/a/20545024\n",
    "    return int(x*(10.0**d))/(10.0**d)\n",
    "    #x = input\n",
    "    #d = decimal places to truncate to\n",
    "\n",
    "cityList = []\n",
    "selected_cites = []\n",
    "uniqueCityCount = 0\n",
    "\n",
    "while (uniqueCityCount < 5): \n",
    "    random_lat = truncate(random.uniform(-90,90),6)\n",
    "    random_long = truncate(random.uniform(-180,180),6)\n",
    "    cityToCheck = citipy.nearest_city(random_lat, random_long).city_name\n",
    "    #Prevent duplicates from being appended to the cityList (before dataframe creation)\n",
    "    if cityToCheck not in cityList:\n",
    "        cityList.append(cityToCheck)\n",
    "        uniqueCityCount = uniqueCityCount+ 1 \n",
    "        \n",
    "#Create dataframe with uniqueCity names        \n",
    "raw_cities_df = pd.DataFrame({\"City Name\": cityList})\n",
    "\n",
    "#Not needed if duplicates removed before dataframe creation: \n",
    "#raw_cities_df = raw_cities_df.drop_duplicates() \n",
    "\n",
    "#Column for city number\n",
    "raw_cities_df['City Number'] = raw_cities_df.index\n",
    "raw_cities_df= raw_cities_df[['City Number','City Name']]\n",
    "#pd.to_numeric(raw_cities_df['City Number'], errors='raise', downcast=None)"
   ]
  },
  {
   "cell_type": "code",
   "execution_count": 79,
   "metadata": {},
   "outputs": [
    {
     "name": "stdout",
     "output_type": "stream",
     "text": [
      "0    0\n",
      "1    1\n",
      "2    2\n",
      "3    3\n",
      "4    4\n",
      "Name: City Number, dtype: int64\n"
     ]
    }
   ],
   "source": [
    "raw_cities_df.head()\n",
    "#print(raw_cities_df['City Number'])"
   ]
  },
  {
   "cell_type": "code",
   "execution_count": 86,
   "metadata": {},
   "outputs": [
    {
     "ename": "TypeError",
     "evalue": "string indices must be integers",
     "output_type": "error",
     "traceback": [
      "\u001b[1;31m---------------------------------------------------------------------------\u001b[0m",
      "\u001b[1;31mTypeError\u001b[0m                                 Traceback (most recent call last)",
      "\u001b[1;32m<ipython-input-86-3b7c58ef0383>\u001b[0m in \u001b[0;36m<module>\u001b[1;34m()\u001b[0m\n\u001b[0;32m      5\u001b[0m \u001b[1;32mfor\u001b[0m \u001b[0mcity\u001b[0m \u001b[1;32min\u001b[0m \u001b[0mraw_cities_df\u001b[0m\u001b[1;33m[\u001b[0m\u001b[1;34m\"City Name\"\u001b[0m\u001b[1;33m]\u001b[0m\u001b[1;33m:\u001b[0m\u001b[1;33m\u001b[0m\u001b[0m\n\u001b[0;32m      6\u001b[0m     \u001b[0msleep\u001b[0m\u001b[1;33m(\u001b[0m\u001b[1;36m2\u001b[0m\u001b[1;33m)\u001b[0m\u001b[1;33m\u001b[0m\u001b[0m\n\u001b[1;32m----> 7\u001b[1;33m     \u001b[0mprint\u001b[0m\u001b[1;33m(\u001b[0m\u001b[1;34m\"Processing:... \"\u001b[0m\u001b[1;33m+\u001b[0m \u001b[0mcity\u001b[0m\u001b[1;33m[\u001b[0m\u001b[1;34m'City Number'\u001b[0m\u001b[1;33m]\u001b[0m\u001b[1;33m)\u001b[0m\u001b[1;33m\u001b[0m\u001b[0m\n\u001b[0m\u001b[0;32m      8\u001b[0m     \u001b[0mprint\u001b[0m\u001b[1;33m(\u001b[0m\u001b[1;34m\"Processing:... \"\u001b[0m\u001b[1;33m+\u001b[0m \u001b[0mcity\u001b[0m \u001b[1;33m)\u001b[0m\u001b[1;33m\u001b[0m\u001b[0m\n\u001b[0;32m      9\u001b[0m     \u001b[0mcurrent_city\u001b[0m\u001b[1;33m=\u001b[0m \u001b[0mow\u001b[0m\u001b[1;33m.\u001b[0m\u001b[0mget_current\u001b[0m\u001b[1;33m(\u001b[0m\u001b[0mcity\u001b[0m\u001b[1;33m,\u001b[0m \u001b[1;33m**\u001b[0m\u001b[0msettings\u001b[0m\u001b[1;33m)\u001b[0m\u001b[1;33m\u001b[0m\u001b[0m\n",
      "\u001b[1;31mTypeError\u001b[0m: string indices must be integers"
     ]
    }
   ],
   "source": [
    "settings = {\"units\": \"imperial\",\"appid\": api_key}\n",
    "from time import sleep\n",
    "\n",
    "#Get current weather for each city in cityList\n",
    "for city in raw_cities_df[\"City Name\"]:\n",
    "    sleep(2)\n",
    "    #print(\"Processing:... \"+ city['City Number']) \n",
    "    =city['City Number']\n",
    "    print(\"Processing:... \"+ city ) \n",
    "    current_city= ow.get_current(city, **settings)\n",
    "    sleep(1)\n",
    "    #Leveraging OpenWatherMapy to parse the response with current_city(*summary)\n",
    "    summary = [\"name\", \"coord.lat\", \"coord.lon\",\"main.temp\",\"main.humidity\",\"wind.speed\",\"clouds.all\"]\n",
    "    summary_output = current_city(*summary)\n",
    "    #weather_data.append(current_city)\n",
    "    print(str(summary_output))\n"
   ]
  },
  {
   "cell_type": "code",
   "execution_count": 22,
   "metadata": {},
   "outputs": [],
   "source": []
  },
  {
   "cell_type": "code",
   "execution_count": null,
   "metadata": {},
   "outputs": [],
   "source": [
    "\n"
   ]
  },
  {
   "cell_type": "code",
   "execution_count": null,
   "metadata": {
    "collapsed": true
   },
   "outputs": [],
   "source": []
  },
  {
   "cell_type": "code",
   "execution_count": null,
   "metadata": {
    "collapsed": true
   },
   "outputs": [],
   "source": []
  }
 ],
 "metadata": {
  "kernelspec": {
   "display_name": "Python 3",
   "language": "python",
   "name": "python3"
  },
  "language_info": {
   "codemirror_mode": {
    "name": "ipython",
    "version": 3
   },
   "file_extension": ".py",
   "mimetype": "text/x-python",
   "name": "python",
   "nbconvert_exporter": "python",
   "pygments_lexer": "ipython3",
   "version": "3.6.1"
  }
 },
 "nbformat": 4,
 "nbformat_minor": 2
}
