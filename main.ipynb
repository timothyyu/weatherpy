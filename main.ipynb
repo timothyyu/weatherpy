{
 "cells": [
  {
   "cell_type": "code",
   "execution_count": 1,
   "metadata": {
    "collapsed": true
   },
   "outputs": [],
   "source": [
    "#Imports\n",
    "import json\n",
    "import csv\n",
    "import pandas as pd\n",
    "import numpy as np\n",
    "import matplotlib.pyplot as plt\n",
    "import openweathermapy.core as ow\n",
    "from citipy import citipy \n",
    "import random\n",
    "import requests as req\n",
    "import urllib\n",
    "from time import sleep"
   ]
  },
  {
   "cell_type": "code",
   "execution_count": 2,
   "metadata": {
    "collapsed": true
   },
   "outputs": [],
   "source": [
    "#Load in API key\n",
    "with open('owm_api.txt', 'r') as file_object:\n",
    "    #Text document that is untracked in project-one directory (NOT pushed to git) with API key\n",
    "    #Create a file called untracked_api_key.txt with your key and DO NOT add to git (add to .gitignore or have outside repository)\n",
    "    api_key  = str(file_object.readline()).strip()\n",
    "\n",
    "#Openweather map API base url\n",
    "base_url = \"http://api.openweathermap.org/data/2.5/weather\""
   ]
  },
  {
   "cell_type": "code",
   "execution_count": 3,
   "metadata": {},
   "outputs": [
    {
     "name": "stdout",
     "output_type": "stream",
     "text": [
      "uniqueCityCount 1\n",
      "uniqueCityCount 2\n",
      "uniqueCityCount 3\n",
      "uniqueCityCount 4\n",
      "uniqueCityCount 5\n"
     ]
    }
   ],
   "source": [
    "\n",
    "\n",
    "#Random selection of 500 unique cities based on lat/long coordinates\n",
    "#Truncate random coordinates to 6 decimal points each\n",
    "def truncate(x, d): #Source for truncate() function: https://stackoverflow.com/a/20545024\n",
    "    return int(x*(10.0**d))/(10.0**d)\n",
    "    #x = input\n",
    "    #d = decimal places to truncate to\n",
    "\n",
    "cityList = []\n",
    "selected_cites = []\n",
    "uniqueCityCount = 0\n",
    "\n",
    "while (uniqueCityCount < 5):\n",
    "    random_lat = truncate(random.uniform(-90,90),6)\n",
    "    random_long = truncate(random.uniform(-180,180),6)\n",
    "    cityToCheck = citipy.nearest_city(random_lat, random_long).city_name\n",
    "    #Pass query to OpenWeatherMap API to check if city is in database\n",
    "    \n",
    "    query_city = cityToCheck\n",
    "    query_url = base_url + \"?apikey=\" + api_key + \"&q=\" + query_city\n",
    "    response = req.get(query_url)\n",
    "    json_data = response.json()\n",
    "    \n",
    "    #Prevent duplicates from being appended to the cityList (before dataframe creation)\n",
    "    #While also not adding the specified city if not in OWM database\n",
    "    if cityToCheck not in cityList and json_data['cod'] != '404':\n",
    "        cityList.append(cityToCheck)\n",
    "        uniqueCityCount = uniqueCityCount+ 1 \n",
    "    print(\"uniqueCityCount \" + str(uniqueCityCount))\n",
    "        \n",
    "#Create dataframe with uniqueCity names        \n",
    "raw_cities_df = pd.DataFrame({\"City Name\": cityList})\n",
    "\n",
    "#Not needed if duplicates removed before dataframe creation: \n",
    "#raw_cities_df = raw_cities_df.drop_duplicates() \n",
    "\n",
    "#Creation of column for city number\n",
    "raw_cities_df['City Number'] = raw_cities_df.index + 1\n",
    "raw_cities_df= raw_cities_df[['City Number','City Name']]\n",
    "cn = pd.to_numeric(raw_cities_df['City Number'], errors='raise', downcast=None)"
   ]
  },
  {
   "cell_type": "code",
   "execution_count": 4,
   "metadata": {
    "collapsed": true
   },
   "outputs": [],
   "source": [
    "#Openweather map API base url\n",
    "base_url = \"http://api.openweathermap.org/data/2.5/weather\""
   ]
  },
  {
   "cell_type": "code",
   "execution_count": 5,
   "metadata": {},
   "outputs": [
    {
     "data": {
      "text/html": [
       "<div>\n",
       "<style>\n",
       "    .dataframe thead tr:only-child th {\n",
       "        text-align: right;\n",
       "    }\n",
       "\n",
       "    .dataframe thead th {\n",
       "        text-align: left;\n",
       "    }\n",
       "\n",
       "    .dataframe tbody tr th {\n",
       "        vertical-align: top;\n",
       "    }\n",
       "</style>\n",
       "<table border=\"1\" class=\"dataframe\">\n",
       "  <thead>\n",
       "    <tr style=\"text-align: right;\">\n",
       "      <th></th>\n",
       "      <th>City Number</th>\n",
       "      <th>City Name</th>\n",
       "    </tr>\n",
       "  </thead>\n",
       "  <tbody>\n",
       "    <tr>\n",
       "      <th>0</th>\n",
       "      <td>1</td>\n",
       "      <td>punta arenas</td>\n",
       "    </tr>\n",
       "    <tr>\n",
       "      <th>1</th>\n",
       "      <td>2</td>\n",
       "      <td>mehamn</td>\n",
       "    </tr>\n",
       "    <tr>\n",
       "      <th>2</th>\n",
       "      <td>3</td>\n",
       "      <td>bambous virieux</td>\n",
       "    </tr>\n",
       "    <tr>\n",
       "      <th>3</th>\n",
       "      <td>4</td>\n",
       "      <td>nikolskoye</td>\n",
       "    </tr>\n",
       "    <tr>\n",
       "      <th>4</th>\n",
       "      <td>5</td>\n",
       "      <td>puerto ayora</td>\n",
       "    </tr>\n",
       "  </tbody>\n",
       "</table>\n",
       "</div>"
      ],
      "text/plain": [
       "   City Number        City Name\n",
       "0            1     punta arenas\n",
       "1            2           mehamn\n",
       "2            3  bambous virieux\n",
       "3            4       nikolskoye\n",
       "4            5     puerto ayora"
      ]
     },
     "execution_count": 5,
     "metadata": {},
     "output_type": "execute_result"
    }
   ],
   "source": [
    "raw_cities_df.head(25)\n",
    "#print(raw_cities_df['City Number'])"
   ]
  },
  {
   "cell_type": "code",
   "execution_count": 6,
   "metadata": {
    "collapsed": true
   },
   "outputs": [],
   "source": [
    "#Declaration of list to hold city data for list => dataframe\n",
    "city_data_list = []"
   ]
  },
  {
   "cell_type": "code",
   "execution_count": 16,
   "metadata": {},
   "outputs": [
    {
     "name": "stdout",
     "output_type": "stream",
     "text": [
      "Base URL for API requests:... http://api.openweathermap.org/data/2.5/\n",
      "Parameters being requested per city:... \n",
      "['name', 'sys.country', 'coord.lat', 'coord.lon', 'main.temp', 'main.humidity', 'wind.speed', 'clouds.all']\n"
     ]
    }
   ],
   "source": [
    "#OWM API settings\n",
    "settings = {\"units\": \"imperial\",\"appid\": api_key}\n",
    "\n",
    "#Print parameters being requested from owm API before retrival\n",
    "print(\"Base URL for API requests:... \" + ow.BASE_URL)\n",
    "print(\"Parameters being requested per city:... \")\n",
    "views = {\"summary\":[\"name\", \"sys.country\",\"coord.lat\", \"coord.lon\",\"main.temp\",\"main.humidity\",\"wind.speed\",\"clouds.all\"]}\n",
    "summary = [\"name\", \"sys.country\", \"coord.lat\", \"coord.lon\",\"main.temp\",\"main.humidity\",\"wind.speed\",\"clouds.all\"]\n",
    "print(summary)"
   ]
  },
  {
   "cell_type": "code",
   "execution_count": 17,
   "metadata": {
    "scrolled": true
   },
   "outputs": [
    {
     "name": "stdout",
     "output_type": "stream",
     "text": [
      "Processing city 1 of 5, punta arenas:\n",
      "('Punta Arenas', 'CL', -53.16, -70.91, 43.15, 100, 29.1, 36)\n",
      "http://api.openweathermap.org/data/2.5/weather&q=punta%20arenas\n",
      "Processing city 2 of 5, mehamn:\n",
      "('Mehamn', 'NO', 71.03, 27.85, 30.52, 92, 8.05, 90)\n",
      "http://api.openweathermap.org/data/2.5/weather&q=mehamn\n",
      "Processing city 3 of 5, bambous virieux:\n",
      "('Bambous Virieux', 'MU', -20.34, 57.76, 75.2, 94, 4.7, 40)\n",
      "http://api.openweathermap.org/data/2.5/weather&q=bambous%20virieux\n",
      "Processing city 4 of 5, nikolskoye:\n",
      "('Nikolskoye', 'RU', 59.7, 30.79, 26.6, 86, 2.24, 75)\n",
      "http://api.openweathermap.org/data/2.5/weather&q=nikolskoye\n",
      "Processing city 5 of 5, puerto ayora:\n",
      "('Puerto Ayora', 'EC', -0.74, -90.35, 84.2, 66, 10.29, 20)\n",
      "http://api.openweathermap.org/data/2.5/weather&q=puerto%20ayora\n"
     ]
    }
   ],
   "source": [
    "#Get current weather for each city in cityList\n",
    "cityCount = 1\n",
    "for city in raw_cities_df[\"City Name\"]:\n",
    "    sleep(1.2)\n",
    "    try:\n",
    "        print(\"Processing city \" + str(cityCount)+ \" of \" +str(len(raw_cities_df[\"City Name\"])) + \", \"+ city +\":\") \n",
    "        current_city= ow.get_current(city, **settings)\n",
    "        \n",
    "        sleep(1.2)\n",
    "        #Leveraging OpenWatherMapy to parse the response with current_city(*summary)\n",
    "        summary_output = current_city(*summary)\n",
    "        print(str(summary_output))\n",
    "        #print(current_city[\"sys\"][\"country\"])\n",
    "        city_url = base_url + \"&q=\" + urllib.request.pathname2url(city)\n",
    "        print (city_url)\n",
    "        city_data_list.append(current_city(*views[\"summary\"]))\n",
    "\n",
    "    except Exception as ex:\n",
    "        print(ex)\n",
    "        cityCount = cityCount - 1\n",
    "    cityCount = cityCount + 1\n"
   ]
  },
  {
   "cell_type": "code",
   "execution_count": 18,
   "metadata": {},
   "outputs": [
    {
     "name": "stdout",
     "output_type": "stream",
     "text": [
      "[('Punta Arenas', 'CL', -53.16, -70.91, 43.15, 100, 29.1, 36), ('Mehamn', 'NO', 71.03, 27.85, 30.52, 92, 8.05, 90), ('Bambous Virieux', 'MU', -20.34, 57.76, 75.2, 94, 4.7, 40), ('Nikolskoye', 'RU', 59.7, 30.79, 26.6, 86, 2.24, 75), ('Puerto Ayora', 'EC', -0.74, -90.35, 84.2, 66, 10.29, 20)]\n"
     ]
    }
   ],
   "source": [
    "print(city_data_list)"
   ]
  },
  {
   "cell_type": "code",
   "execution_count": 19,
   "metadata": {},
   "outputs": [
    {
     "data": {
      "text/html": [
       "<div>\n",
       "<style>\n",
       "    .dataframe thead tr:only-child th {\n",
       "        text-align: right;\n",
       "    }\n",
       "\n",
       "    .dataframe thead th {\n",
       "        text-align: left;\n",
       "    }\n",
       "\n",
       "    .dataframe tbody tr th {\n",
       "        vertical-align: top;\n",
       "    }\n",
       "</style>\n",
       "<table border=\"1\" class=\"dataframe\">\n",
       "  <thead>\n",
       "    <tr style=\"text-align: right;\">\n",
       "      <th></th>\n",
       "      <th>name</th>\n",
       "      <th>sys.country</th>\n",
       "      <th>coord.lat</th>\n",
       "      <th>coord.lon</th>\n",
       "      <th>main.temp</th>\n",
       "      <th>main.humidity</th>\n",
       "      <th>wind.speed</th>\n",
       "      <th>clouds.all</th>\n",
       "    </tr>\n",
       "  </thead>\n",
       "  <tbody>\n",
       "    <tr>\n",
       "      <th>0</th>\n",
       "      <td>Punta Arenas</td>\n",
       "      <td>CL</td>\n",
       "      <td>-53.16</td>\n",
       "      <td>-70.91</td>\n",
       "      <td>43.15</td>\n",
       "      <td>100</td>\n",
       "      <td>29.10</td>\n",
       "      <td>36</td>\n",
       "    </tr>\n",
       "    <tr>\n",
       "      <th>1</th>\n",
       "      <td>Mehamn</td>\n",
       "      <td>NO</td>\n",
       "      <td>71.03</td>\n",
       "      <td>27.85</td>\n",
       "      <td>30.52</td>\n",
       "      <td>92</td>\n",
       "      <td>8.05</td>\n",
       "      <td>90</td>\n",
       "    </tr>\n",
       "    <tr>\n",
       "      <th>2</th>\n",
       "      <td>Bambous Virieux</td>\n",
       "      <td>MU</td>\n",
       "      <td>-20.34</td>\n",
       "      <td>57.76</td>\n",
       "      <td>75.20</td>\n",
       "      <td>94</td>\n",
       "      <td>4.70</td>\n",
       "      <td>40</td>\n",
       "    </tr>\n",
       "    <tr>\n",
       "      <th>3</th>\n",
       "      <td>Nikolskoye</td>\n",
       "      <td>RU</td>\n",
       "      <td>59.70</td>\n",
       "      <td>30.79</td>\n",
       "      <td>26.60</td>\n",
       "      <td>86</td>\n",
       "      <td>2.24</td>\n",
       "      <td>75</td>\n",
       "    </tr>\n",
       "    <tr>\n",
       "      <th>4</th>\n",
       "      <td>Puerto Ayora</td>\n",
       "      <td>EC</td>\n",
       "      <td>-0.74</td>\n",
       "      <td>-90.35</td>\n",
       "      <td>84.20</td>\n",
       "      <td>66</td>\n",
       "      <td>10.29</td>\n",
       "      <td>20</td>\n",
       "    </tr>\n",
       "  </tbody>\n",
       "</table>\n",
       "</div>"
      ],
      "text/plain": [
       "              name sys.country  coord.lat  coord.lon  main.temp  \\\n",
       "0     Punta Arenas          CL     -53.16     -70.91      43.15   \n",
       "1           Mehamn          NO      71.03      27.85      30.52   \n",
       "2  Bambous Virieux          MU     -20.34      57.76      75.20   \n",
       "3       Nikolskoye          RU      59.70      30.79      26.60   \n",
       "4     Puerto Ayora          EC      -0.74     -90.35      84.20   \n",
       "\n",
       "   main.humidity  wind.speed  clouds.all  \n",
       "0            100       29.10          36  \n",
       "1             92        8.05          90  \n",
       "2             94        4.70          40  \n",
       "3             86        2.24          75  \n",
       "4             66       10.29          20  "
      ]
     },
     "execution_count": 19,
     "metadata": {},
     "output_type": "execute_result"
    }
   ],
   "source": [
    "city_data_df = pd.DataFrame(city_data_list)\n",
    "#Set column headers to summary/view labels\n",
    "city_data_df.columns = summary\n",
    "city_data_df.head()\n"
   ]
  },
  {
   "cell_type": "code",
   "execution_count": 20,
   "metadata": {
    "collapsed": true
   },
   "outputs": [],
   "source": [
    "city_data_df.to_csv(\"city_weather_data_scraped.csv\", mode ='w')"
   ]
  },
  {
   "cell_type": "code",
   "execution_count": null,
   "metadata": {
    "collapsed": true
   },
   "outputs": [],
   "source": []
  },
  {
   "cell_type": "code",
   "execution_count": null,
   "metadata": {
    "collapsed": true
   },
   "outputs": [],
   "source": [
    "\n",
    "\n",
    "\n"
   ]
  },
  {
   "cell_type": "code",
   "execution_count": null,
   "metadata": {
    "collapsed": true
   },
   "outputs": [],
   "source": [
    "#Documentation on OWM wrapper ---> https://github.com/crazycapivara/openweathermapy\n",
    "#openweathermap complete city list:\n",
    "    #http://openweathermap.org/help/city_list.txt \n",
    "        #one method ---> check against list\n",
    "        #another method ---> skip if error returned \n",
    "    \n",
    "#https://pandas.pydata.org/pandas-docs/stable/generated/pandas.read_html.html\n",
    "#Mapping ----> http://pandas.pydata.org/pandas-docs/version/0.19/generated/pandas.Series.map.html\n",
    "#https://stackoverflow.com/questions/26666919/python-pandas-add-column-in-dataframe-from-list\n",
    "#https://stackoverflow.com/questions/42632470/how-to-add-dictionaries-to-a-dataframe-as-a-row\n",
    "\n",
    "#Put requested data into a dictionary that contains a list (intention to append to dataframe)\n",
    "    #views = {\"summary\":[\"name\", \"coord.lat\", \"coord.lon\",\"main.temp\",\"main.humidity\",\"wind.speed\",\"clouds.all\"]}\n",
    "    #print(current_city(*views[\"summary\"]))\n",
    "    #city_data_list.append(current_city(*views[\"summary\"]))\n",
    "\n"
   ]
  }
 ],
 "metadata": {
  "kernelspec": {
   "display_name": "Python 3",
   "language": "python",
   "name": "python3"
  },
  "language_info": {
   "codemirror_mode": {
    "name": "ipython",
    "version": 3
   },
   "file_extension": ".py",
   "mimetype": "text/x-python",
   "name": "python",
   "nbconvert_exporter": "python",
   "pygments_lexer": "ipython3",
   "version": "3.6.1"
  }
 },
 "nbformat": 4,
 "nbformat_minor": 2
}
