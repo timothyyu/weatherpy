{
 "cells": [
  {
   "cell_type": "code",
   "execution_count": 1,
   "metadata": {
    "collapsed": true
   },
   "outputs": [],
   "source": [
    "#Imports\n",
    "import json\n",
    "import csv\n",
    "import pandas as pd\n",
    "import numpy as np\n",
    "import matplotlib.pyplot as plt\n",
    "import openweathermapy.core as ow\n",
    "from citipy import citipy \n",
    "import random\n",
    "import requests as req\n",
    "\n",
    "#OpenWeatherMap API Key\n",
    "api_key = \"26fea83d1259ec5c651394906a953b54\"\n",
    "base_url = \"http://api.openweathermap.org/data/2.5/weather\"\n"
   ]
  },
  {
   "cell_type": "code",
   "execution_count": 2,
   "metadata": {
    "collapsed": true
   },
   "outputs": [],
   "source": [
    "#Random selection of 500 unique cities based on lat/long coordinates\n",
    "#Truncate random coordinates to 6 decimal points each\n",
    "def truncate(x, d): #Source for truncate() function: https://stackoverflow.com/a/20545024\n",
    "    return int(x*(10.0**d))/(10.0**d)\n",
    "    #x = input\n",
    "    #d = decimal places to truncate to\n",
    "\n",
    "cityList = []\n",
    "selected_cites = []\n",
    "uniqueCityCount = 0\n",
    "\n",
    "while (uniqueCityCount < 10): \n",
    "    random_lat = truncate(random.uniform(-90,90),6)\n",
    "    random_long = truncate(random.uniform(-180,180),6)\n",
    "    cityToCheck = citipy.nearest_city(random_lat, random_long).city_name\n",
    "    #Pass query to OpenWeatherMap API to check if city is in database\n",
    "    \n",
    "    query_city = cityToCheck\n",
    "    query_url = base_url + \"?apikey=\" + api_key + \"&q=\" + query_city\n",
    "    response = req.get(query_url)\n",
    "    json_data = response.json()\n",
    "    \n",
    "    #Prevent duplicates from being appended to the cityList (before dataframe creation)\n",
    "    #While also not adding the specified city if not in OWM database\n",
    "    if cityToCheck not in cityList and json_data['cod'] != '404':\n",
    "        cityList.append(cityToCheck)\n",
    "        uniqueCityCount = uniqueCityCount+ 1 \n",
    "        \n",
    "#Create dataframe with uniqueCity names        \n",
    "raw_cities_df = pd.DataFrame({\"City Name\": cityList})\n",
    "\n",
    "#Not needed if duplicates removed before dataframe creation: \n",
    "#raw_cities_df = raw_cities_df.drop_duplicates() \n",
    "\n",
    "#Creation of column for city number\n",
    "raw_cities_df['City Number'] = raw_cities_df.index + 1\n",
    "raw_cities_df= raw_cities_df[['City Number','City Name']]\n",
    "cn = pd.to_numeric(raw_cities_df['City Number'], errors='raise', downcast=None)"
   ]
  },
  {
   "cell_type": "code",
   "execution_count": 3,
   "metadata": {},
   "outputs": [
    {
     "data": {
      "text/html": [
       "<div>\n",
       "<style>\n",
       "    .dataframe thead tr:only-child th {\n",
       "        text-align: right;\n",
       "    }\n",
       "\n",
       "    .dataframe thead th {\n",
       "        text-align: left;\n",
       "    }\n",
       "\n",
       "    .dataframe tbody tr th {\n",
       "        vertical-align: top;\n",
       "    }\n",
       "</style>\n",
       "<table border=\"1\" class=\"dataframe\">\n",
       "  <thead>\n",
       "    <tr style=\"text-align: right;\">\n",
       "      <th></th>\n",
       "      <th>City Number</th>\n",
       "      <th>City Name</th>\n",
       "    </tr>\n",
       "  </thead>\n",
       "  <tbody>\n",
       "    <tr>\n",
       "      <th>0</th>\n",
       "      <td>1</td>\n",
       "      <td>hobart</td>\n",
       "    </tr>\n",
       "    <tr>\n",
       "      <th>1</th>\n",
       "      <td>2</td>\n",
       "      <td>vaitape</td>\n",
       "    </tr>\n",
       "    <tr>\n",
       "      <th>2</th>\n",
       "      <td>3</td>\n",
       "      <td>yellowknife</td>\n",
       "    </tr>\n",
       "    <tr>\n",
       "      <th>3</th>\n",
       "      <td>4</td>\n",
       "      <td>yar-sale</td>\n",
       "    </tr>\n",
       "    <tr>\n",
       "      <th>4</th>\n",
       "      <td>5</td>\n",
       "      <td>cape town</td>\n",
       "    </tr>\n",
       "    <tr>\n",
       "      <th>5</th>\n",
       "      <td>6</td>\n",
       "      <td>medzilaborce</td>\n",
       "    </tr>\n",
       "    <tr>\n",
       "      <th>6</th>\n",
       "      <td>7</td>\n",
       "      <td>bredasdorp</td>\n",
       "    </tr>\n",
       "    <tr>\n",
       "      <th>7</th>\n",
       "      <td>8</td>\n",
       "      <td>busselton</td>\n",
       "    </tr>\n",
       "    <tr>\n",
       "      <th>8</th>\n",
       "      <td>9</td>\n",
       "      <td>karratha</td>\n",
       "    </tr>\n",
       "    <tr>\n",
       "      <th>9</th>\n",
       "      <td>10</td>\n",
       "      <td>ibotirama</td>\n",
       "    </tr>\n",
       "  </tbody>\n",
       "</table>\n",
       "</div>"
      ],
      "text/plain": [
       "   City Number     City Name\n",
       "0            1        hobart\n",
       "1            2       vaitape\n",
       "2            3   yellowknife\n",
       "3            4      yar-sale\n",
       "4            5     cape town\n",
       "5            6  medzilaborce\n",
       "6            7    bredasdorp\n",
       "7            8     busselton\n",
       "8            9      karratha\n",
       "9           10     ibotirama"
      ]
     },
     "execution_count": 3,
     "metadata": {},
     "output_type": "execute_result"
    }
   ],
   "source": [
    "\n",
    "raw_cities_df.head(25)\n",
    "#print(raw_cities_df['City Number'])"
   ]
  },
  {
   "cell_type": "code",
   "execution_count": null,
   "metadata": {
    "collapsed": true
   },
   "outputs": [],
   "source": []
  },
  {
   "cell_type": "code",
   "execution_count": 4,
   "metadata": {},
   "outputs": [
    {
     "name": "stdout",
     "output_type": "stream",
     "text": [
      "Base URL for API requests:... http://api.openweathermap.org/data/2.5/\n",
      "Parameters being requested per city:... \n",
      "['name', 'coord.lat', 'coord.lon', 'main.temp', 'main.humidity', 'wind.speed', 'clouds.all']\n",
      "Processing city 1 of 10, hobart:\n",
      "('Hobart', -42.88, 147.33, 73.4, 38, 11.41, 92)\n",
      "Processing city 2 of 10, vaitape:\n",
      "('Vaitape', -16.52, -151.75, 78.78, 100, 10.22, 80)\n",
      "Processing city 3 of 10, yellowknife:\n",
      "('Yellowknife', 62.45, -114.38, 8.6, 84, 8.05, 90)\n",
      "Processing city 4 of 10, yar-sale:\n",
      "('Yar-Sale', 66.83, 70.83, 25.55, 95, 12.24, 76)\n",
      "Processing city 5 of 10, cape town:\n",
      "('Cape Town', -33.93, 18.42, 68, 77, 12.75, 75)\n",
      "Processing city 6 of 10, medzilaborce:\n",
      "('Medzilaborce', 49.27, 21.9, 36.08, 100, 5.75, 92)\n",
      "Processing city 7 of 10, bredasdorp:\n",
      "('Bredasdorp', -34.53, 20.04, 60.8, 87, 3.36, 64)\n",
      "Processing city 8 of 10, busselton:\n",
      "('Busselton', -33.64, 115.35, 62.94, 100, 10.22, 0)\n",
      "Processing city 9 of 10, karratha:\n",
      "('Karratha', -20.74, 116.85, 84, 78, 5.75, 0)\n",
      "Processing city 10 of 10, ibotirama:\n",
      "('Ibotirama', -12.18, -43.22, 67.98, 100, 4.07, 92)\n"
     ]
    }
   ],
   "source": [
    "settings = {\"units\": \"imperial\",\"appid\": api_key}\n",
    "from time import sleep\n",
    "\n",
    "#Print parameters being requested from owm API before retrival\n",
    "print(\"Base URL for API requests:... \" + ow.BASE_URL)\n",
    "print(\"Parameters being requested per city:... \")\n",
    "summary = [\"name\", \"coord.lat\", \"coord.lon\",\"main.temp\",\"main.humidity\",\"wind.speed\",\"clouds.all\"]\n",
    "print(summary)\n",
    "\n",
    "#Get current weather for each city in cityList\n",
    "cityCount = 1\n",
    "for city in raw_cities_df[\"City Name\"]:\n",
    "    sleep(1.2)\n",
    "    try:\n",
    "        print(\"Processing city \" + str(cityCount)+ \" of \" +str(len(raw_cities_df[\"City Name\"])) + \", \"+ city +\":\") \n",
    "        current_city= ow.get_current(city, **settings)\n",
    "        sleep(1.2)\n",
    "        #Leveraging OpenWatherMapy to parse the response with current_city(*summary)\n",
    "        #summary = [\"name\", \"coord.lat\", \"coord.lon\",\"main.temp\",\"main.humidity\",\"wind.speed\",\"clouds.all\"]\n",
    "        summary_output = current_city(*summary)\n",
    "        print(str(summary_output))\n",
    "    \n",
    "    except Exception as ex:\n",
    "        print(ex)\n",
    "    cityCount = cityCount + 1\n",
    "\n",
    "    #openweathermap complete city list:\n",
    "    #http://openweathermap.org/help/city_list.txt \n",
    "    #one method ---> check against list\n",
    "    #another method ---> skip if error returned \n",
    "    \n",
    "    #https://pandas.pydata.org/pandas-docs/stable/generated/pandas.read_html.html\n",
    "    \n",
    "    "
   ]
  },
  {
   "cell_type": "code",
   "execution_count": null,
   "metadata": {
    "collapsed": true
   },
   "outputs": [],
   "source": []
  },
  {
   "cell_type": "code",
   "execution_count": null,
   "metadata": {},
   "outputs": [],
   "source": []
  },
  {
   "cell_type": "code",
   "execution_count": null,
   "metadata": {},
   "outputs": [],
   "source": []
  },
  {
   "cell_type": "code",
   "execution_count": null,
   "metadata": {},
   "outputs": [],
   "source": []
  },
  {
   "cell_type": "code",
   "execution_count": null,
   "metadata": {},
   "outputs": [],
   "source": []
  },
  {
   "cell_type": "code",
   "execution_count": null,
   "metadata": {},
   "outputs": [],
   "source": []
  }
 ],
 "metadata": {
  "kernelspec": {
   "display_name": "Python 3",
   "language": "python",
   "name": "python3"
  },
  "language_info": {
   "codemirror_mode": {
    "name": "ipython",
    "version": 3
   },
   "file_extension": ".py",
   "mimetype": "text/x-python",
   "name": "python",
   "nbconvert_exporter": "python",
   "pygments_lexer": "ipython3",
   "version": "3.6.1"
  }
 },
 "nbformat": 4,
 "nbformat_minor": 2
}
