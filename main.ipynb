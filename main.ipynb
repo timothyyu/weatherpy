{
 "cells": [
  {
   "cell_type": "code",
   "execution_count": 61,
   "metadata": {
    "collapsed": true
   },
   "outputs": [],
   "source": [
    "#Imports\n",
    "import json\n",
    "import csv\n",
    "import pandas as pd\n",
    "import numpy as np\n",
    "import matplotlib.pyplot as plt\n",
    "import openweathermapy.core as ow\n",
    "from citipy import citipy \n",
    "import random\n",
    "\n",
    "#OpenWeatherMap API Key\n",
    "api_key = \"26fea83d1259ec5c651394906a953b54\""
   ]
  },
  {
   "cell_type": "code",
   "execution_count": 94,
   "metadata": {},
   "outputs": [],
   "source": [
    "#Random selection of 500 unique cities based on lat/long coordinates\n",
    "#Truncate random coordinates to 6 decimal points each\n",
    "def truncate(x, d): #Source for truncate() function: https://stackoverflow.com/a/20545024\n",
    "    return int(x*(10.0**d))/(10.0**d)\n",
    "    #x = input\n",
    "    #d = decimal places to truncate to\n",
    "\n",
    "cityList = []\n",
    "selected_cites = []\n",
    "uniqueCityCount = 0\n",
    "\n",
    "while (uniqueCityCount < 5): \n",
    "    random_lat = truncate(random.uniform(-90,90),6)\n",
    "    random_long = truncate(random.uniform(-180,180),6)\n",
    "    cityToCheck = citipy.nearest_city(random_lat, random_long).city_name\n",
    "    #Prevent duplicates from being appended to the cityList (before dataframe creation)\n",
    "    if cityToCheck not in cityList:\n",
    "        cityList.append(cityToCheck)\n",
    "        uniqueCityCount = uniqueCityCount+ 1 \n",
    "        \n",
    "#Create dataframe with uniqueCity names        \n",
    "raw_cities_df = pd.DataFrame({\"City Name\": cityList})\n",
    "\n",
    "#Not needed if duplicates removed before dataframe creation: \n",
    "#raw_cities_df = raw_cities_df.drop_duplicates() \n",
    "\n",
    "#Column for city number\n",
    "raw_cities_df['City Number'] = raw_cities_df.index\n",
    "raw_cities_df= raw_cities_df[['City Number','City Name']]\n",
    "cn = pd.to_numeric(raw_cities_df['City Number'], errors='raise', downcast=None)"
   ]
  },
  {
   "cell_type": "code",
   "execution_count": 95,
   "metadata": {},
   "outputs": [
    {
     "data": {
      "text/html": [
       "<div>\n",
       "<style>\n",
       "    .dataframe thead tr:only-child th {\n",
       "        text-align: right;\n",
       "    }\n",
       "\n",
       "    .dataframe thead th {\n",
       "        text-align: left;\n",
       "    }\n",
       "\n",
       "    .dataframe tbody tr th {\n",
       "        vertical-align: top;\n",
       "    }\n",
       "</style>\n",
       "<table border=\"1\" class=\"dataframe\">\n",
       "  <thead>\n",
       "    <tr style=\"text-align: right;\">\n",
       "      <th></th>\n",
       "      <th>City Number</th>\n",
       "      <th>City Name</th>\n",
       "    </tr>\n",
       "  </thead>\n",
       "  <tbody>\n",
       "    <tr>\n",
       "      <th>0</th>\n",
       "      <td>0</td>\n",
       "      <td>half moon bay</td>\n",
       "    </tr>\n",
       "    <tr>\n",
       "      <th>1</th>\n",
       "      <td>1</td>\n",
       "      <td>kenai</td>\n",
       "    </tr>\n",
       "    <tr>\n",
       "      <th>2</th>\n",
       "      <td>2</td>\n",
       "      <td>ballina</td>\n",
       "    </tr>\n",
       "    <tr>\n",
       "      <th>3</th>\n",
       "      <td>3</td>\n",
       "      <td>ponta delgada</td>\n",
       "    </tr>\n",
       "    <tr>\n",
       "      <th>4</th>\n",
       "      <td>4</td>\n",
       "      <td>vostok</td>\n",
       "    </tr>\n",
       "  </tbody>\n",
       "</table>\n",
       "</div>"
      ],
      "text/plain": [
       "   City Number      City Name\n",
       "0            0  half moon bay\n",
       "1            1          kenai\n",
       "2            2        ballina\n",
       "3            3  ponta delgada\n",
       "4            4         vostok"
      ]
     },
     "execution_count": 95,
     "metadata": {},
     "output_type": "execute_result"
    }
   ],
   "source": [
    "raw_cities_df.head()\n",
    "#print(raw_cities_df['City Number'])"
   ]
  },
  {
   "cell_type": "code",
   "execution_count": null,
   "metadata": {},
   "outputs": [
    {
     "name": "stdout",
     "output_type": "stream",
     "text": [
      "Base URL for API requests:... http://api.openweathermap.org/data/2.5/\n",
      "Parameters being requested per city:... \n",
      "['name', 'coord.lat', 'coord.lon', 'main.temp', 'main.humidity', 'wind.speed', 'clouds.all']\n",
      "Processing:... half moon bay\n",
      "('Half Moon Bay', 37.46, -122.43, 57.7, 72, 13.87, 1)\n",
      "Processing:... kenai\n",
      "('Kenai', 60.55, -151.26, 10.09, 100, 6.93, 90)\n",
      "Processing:... ballina\n",
      "('Ballina', 54.11, -9.15, 36.82, 100, 10.42, 76)\n",
      "Processing:... ponta delgada\n",
      "('Ponta Delgada', 37.73, -25.67, 62.6, 67, 10.29, 40)\n"
     ]
    }
   ],
   "source": [
    "settings = {\"units\": \"imperial\",\"appid\": api_key}\n",
    "from time import sleep\n",
    "\n",
    "#Get current weather for each city in cityList\n",
    "print(\"Base URL for API requests:... \" + ow.BASE_URL)\n",
    "print(\"Parameters being requested per city:... \")\n",
    "\n",
    "summary = [\"name\", \"coord.lat\", \"coord.lon\",\"main.temp\",\"main.humidity\",\"wind.speed\",\"clouds.all\"]\n",
    "print(summary)\n",
    "\n",
    "for city in raw_cities_df[\"City Name\"]:\n",
    "    sleep(2)\n",
    "    #print(\"Processing:... \"+ city['City Number'])\n",
    "    print(\"Processing:... \"+ city ) \n",
    "    current_city= ow.get_current(city, **settings)\n",
    "    sleep(1)\n",
    "    #Leveraging OpenWatherMapy to parse the response with current_city(*summary)\n",
    "    #summary = [\"name\", \"coord.lat\", \"coord.lon\",\"main.temp\",\"main.humidity\",\"wind.speed\",\"clouds.all\"]\n",
    "    summary_output = current_city(*summary)\n",
    "    #weather_data.append(current_city)\n",
    "    print(str(summary_output))\n",
    "    \n",
    "    \n"
   ]
  },
  {
   "cell_type": "code",
   "execution_count": 22,
   "metadata": {},
   "outputs": [],
   "source": []
  },
  {
   "cell_type": "code",
   "execution_count": null,
   "metadata": {},
   "outputs": [],
   "source": [
    "\n"
   ]
  },
  {
   "cell_type": "code",
   "execution_count": null,
   "metadata": {
    "collapsed": true
   },
   "outputs": [],
   "source": []
  },
  {
   "cell_type": "code",
   "execution_count": null,
   "metadata": {
    "collapsed": true
   },
   "outputs": [],
   "source": []
  }
 ],
 "metadata": {
  "kernelspec": {
   "display_name": "Python 3",
   "language": "python",
   "name": "python3"
  },
  "language_info": {
   "codemirror_mode": {
    "name": "ipython",
    "version": 3
   },
   "file_extension": ".py",
   "mimetype": "text/x-python",
   "name": "python",
   "nbconvert_exporter": "python",
   "pygments_lexer": "ipython3",
   "version": "3.6.1"
  }
 },
 "nbformat": 4,
 "nbformat_minor": 2
}
